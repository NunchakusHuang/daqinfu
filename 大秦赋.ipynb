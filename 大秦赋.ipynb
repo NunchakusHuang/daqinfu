{
 "cells": [
  {
   "cell_type": "code",
   "execution_count": 1,
   "metadata": {},
   "outputs": [],
   "source": [
    "import pandas as pd\n",
    "import seaborn as sns\n",
    "import matplotlib.pyplot as plt\n",
    "import json"
   ]
  },
  {
   "cell_type": "code",
   "execution_count": 2,
   "metadata": {},
   "outputs": [],
   "source": [
    "sns.set_style(\"darkgrid\")\n",
    "plt.rcParams['font.sans-serif'] = ['SimHei']\n",
    "plt.rcParams['axes.unicode_minus']=False #用来正常显示负号"
   ]
  },
  {
   "cell_type": "code",
   "execution_count": 3,
   "metadata": {},
   "outputs": [],
   "source": [
    "items = []\n",
    "with open(\"comments.json\",\"r\") as fp:\n",
    "    for line in fp:\n",
    "        comment = json.loads(line)\n",
    "        items.append(comment)"
   ]
  },
  {
   "cell_type": "code",
   "execution_count": 4,
   "metadata": {},
   "outputs": [
    {
     "data": {
      "text/html": [
       "<div>\n",
       "<style scoped>\n",
       "    .dataframe tbody tr th:only-of-type {\n",
       "        vertical-align: middle;\n",
       "    }\n",
       "\n",
       "    .dataframe tbody tr th {\n",
       "        vertical-align: top;\n",
       "    }\n",
       "\n",
       "    .dataframe thead th {\n",
       "        text-align: right;\n",
       "    }\n",
       "</style>\n",
       "<table border=\"1\" class=\"dataframe\">\n",
       "  <thead>\n",
       "    <tr style=\"text-align: right;\">\n",
       "      <th></th>\n",
       "      <th>pub_time</th>\n",
       "      <th>rating</th>\n",
       "      <th>content</th>\n",
       "    </tr>\n",
       "  </thead>\n",
       "  <tbody>\n",
       "    <tr>\n",
       "      <th>0</th>\n",
       "      <td>2020-12-01 20:43:49</td>\n",
       "      <td>5</td>\n",
       "      <td>从《裂变》一集不落的追到现在，也是数年的老粉了，在此期间，思想几多变化，对于大秦帝国系列要传...</td>\n",
       "    </tr>\n",
       "    <tr>\n",
       "      <th>1</th>\n",
       "      <td>2020-12-01 21:00:00</td>\n",
       "      <td>3</td>\n",
       "      <td>比大秦帝国，差点儿意思。</td>\n",
       "    </tr>\n",
       "    <tr>\n",
       "      <th>2</th>\n",
       "      <td>2020-12-01 21:04:12</td>\n",
       "      <td>4</td>\n",
       "      <td>这才第一集，嫪毐的一个肾就没了，可还行？赵姬表示很亏[裂开]</td>\n",
       "    </tr>\n",
       "    <tr>\n",
       "      <th>3</th>\n",
       "      <td>2020-12-01 20:53:47</td>\n",
       "      <td>2</td>\n",
       "      <td>挖坟翻拍，靡费甚巨（服化道），78×45分钟拖沓，价值何在？加1星给段奕宏。</td>\n",
       "    </tr>\n",
       "    <tr>\n",
       "      <th>4</th>\n",
       "      <td>2020-12-02 21:19:00</td>\n",
       "      <td>4</td>\n",
       "      <td>道服化好用心，演员除开赵姬都很给力，就不明白一点，张鲁一长相气质完全没有嬴政的feel，目前...</td>\n",
       "    </tr>\n",
       "  </tbody>\n",
       "</table>\n",
       "</div>"
      ],
      "text/plain": [
       "             pub_time rating  \\\n",
       "0 2020-12-01 20:43:49      5   \n",
       "1 2020-12-01 21:00:00      3   \n",
       "2 2020-12-01 21:04:12      4   \n",
       "3 2020-12-01 20:53:47      2   \n",
       "4 2020-12-02 21:19:00      4   \n",
       "\n",
       "                                             content  \n",
       "0  从《裂变》一集不落的追到现在，也是数年的老粉了，在此期间，思想几多变化，对于大秦帝国系列要传...  \n",
       "1                                       比大秦帝国，差点儿意思。  \n",
       "2                     这才第一集，嫪毐的一个肾就没了，可还行？赵姬表示很亏[裂开]  \n",
       "3             挖坟翻拍，靡费甚巨（服化道），78×45分钟拖沓，价值何在？加1星给段奕宏。  \n",
       "4  道服化好用心，演员除开赵姬都很给力，就不明白一点，张鲁一长相气质完全没有嬴政的feel，目前...  "
      ]
     },
     "execution_count": 4,
     "metadata": {},
     "output_type": "execute_result"
    }
   ],
   "source": [
    "item_list = [[item['pub_time'],item['rating'],item['content']] for item in items]\n",
    "comment_df = pd.DataFrame(item_list,columns=['pub_time','rating','content'])\n",
    "comment_df['pub_time'] = pd.to_datetime(comment_df['pub_time'])\n",
    "comment_df.head()"
   ]
  },
  {
   "cell_type": "code",
   "execution_count": 5,
   "metadata": {},
   "outputs": [
    {
     "data": {
      "text/plain": [
       "(Timestamp('2020-12-01 20:36:07'), Timestamp('2020-12-10 22:06:15'))"
      ]
     },
     "execution_count": 5,
     "metadata": {},
     "output_type": "execute_result"
    }
   ],
   "source": [
    "comment_df[\"pub_time\"].min(),comment_df[\"pub_time\"].max()"
   ]
  },
  {
   "cell_type": "code",
   "execution_count": 6,
   "metadata": {},
   "outputs": [
    {
     "data": {
      "text/plain": [
       "Text(0, 0.5, '评论数量')"
      ]
     },
     "execution_count": 6,
     "metadata": {},
     "output_type": "execute_result"
    },
    {
     "data": {
      "image/png": "[encoded data removed]",
      "text/plain": [
       "<Figure size 720x360 with 1 Axes>"
      ]
     },
     "metadata": {},
     "output_type": "display_data"
    }
   ],
   "source": [
    "# 分析评论日期\n",
    "import re\n",
    "from matplotlib import dates\n",
    "\n",
    "plt.figure(figsize=(10,5))\n",
    "\n",
    "# 2. 添加一个新的pub_date\n",
    "comment_df['pub_date'] = comment_df['pub_time'].dt.date\n",
    "# # 3. 根据日期分组绘图\n",
    "comment_date_df = comment_df.groupby(['pub_date']).count()\n",
    "ax = sns.lineplot(x=comment_date_df.index,y=comment_date_df.content,marker='o')\n",
    "# 设置显示所有时间\n",
    "ax.set(xticks=comment_date_df.index)\n",
    "# 设置x轴旋转\n",
    "_ = ax.set_xticklabels(comment_date_df.index,rotation=45)\n",
    "# 设置x轴格式\n",
    "ax.xaxis.set_major_formatter(dates.DateFormatter(\"%m-%d\"))\n",
    "ax.set_xlabel(\"发布日期\")\n",
    "ax.set_ylabel(\"评论数量\")"
   ]
  },
  {
   "cell_type": "code",
   "execution_count": 7,
   "metadata": {},
   "outputs": [
    {
     "data": {
      "text/plain": [
       "Text(0, 0.5, '发布数量')"
      ]
     },
     "execution_count": 7,
     "metadata": {},
     "output_type": "execute_result"
    },
    {
     "data": {
      "image/png": "[encoded data removed]",
      "text/plain": [
       "<Figure size 432x288 with 1 Axes>"
      ]
     },
     "metadata": {},
     "output_type": "display_data"
    }
   ],
   "source": [
    "# 分析评论时间\n",
    "import datetime\n",
    "time_range = [0,2,4,6,8,10,12,14,16,18,20,22,24]\n",
    "comment_time_df = comment_df['pub_time'].dt.hour\n",
    "time_range_counts = pd.cut(comment_time_df,bins=time_range,include_lowest=True,right=False).value_counts()\n",
    "ax = time_range_counts.plot(kind=\"bar\")\n",
    "_ = ax.set_xticklabels(labels=time_range_counts.index,rotation=45)\n",
    "ax.set_xlabel(\"发布时间\")\n",
    "ax.set_ylabel(\"发布数量\")"
   ]
  },
  {
   "cell_type": "code",
   "execution_count": 8,
   "metadata": {},
   "outputs": [
    {
     "data": {
      "text/plain": [
       "<matplotlib.axes._subplots.AxesSubplot at 0x2b935d47148>"
      ]
     },
     "execution_count": 8,
     "metadata": {},
     "output_type": "execute_result"
    },
    {
     "data": {
      "image/png": "[encoded data removed]",
      "text/plain": [
       "<Figure size 432x288 with 1 Axes>"
      ]
     },
     "metadata": {},
     "output_type": "display_data"
    }
   ],
   "source": [
    "# 评论数据\n",
    "sns.countplot(x='rating',data=comment_df,order=comment_df['rating'].value_counts().index)"
   ]
  },
  {
   "cell_type": "code",
   "execution_count": 18,
   "metadata": {
    "scrolled": true
   },
   "outputs": [
    {
     "data": {
      "text/plain": [
       "<matplotlib.axes._subplots.AxesSubplot at 0x2b93ab45588>"
      ]
     },
     "execution_count": 18,
     "metadata": {},
     "output_type": "execute_result"
    },
    {
     "data": {
      "image/png": "[encoded data removed]",
      "text/plain": [
       "<Figure size 432x288 with 1 Axes>"
      ]
     },
     "metadata": {},
     "output_type": "display_data"
    }
   ],
   "source": [
    "# 电视剧人物的评分\n",
    "# 力荐：+5，推荐：+4，还行：3，较差：2，很差：1\n",
    "import jieba\n",
    "roles = {'嬴政':0,'秦始皇':0,'张鲁一':0,'吕不韦':0,'段奕宏':0,'李斯':0,'嫪毐':0,\"赵姬\":0,\"朱珠\":0}\n",
    "role_names = list(roles.keys())\n",
    "for name in role_names:\n",
    "    jieba.add_word(name)\n",
    "for row in comment_df.index:\n",
    "    rating = comment_df.loc[row,'rating']\n",
    "    if rating:\n",
    "        content = comment_df.loc[row,\"content\"]\n",
    "        words = list(jieba.cut(content, cut_all=False))\n",
    "        names = set(role_names).intersection(set(words))\n",
    "        for name in names:\n",
    "            roles[name] += int(rating)\n",
    "roles['嬴政'] += roles['嬴政'] + roles['秦始皇'] + roles['张鲁一']\n",
    "roles['吕不韦'] += roles['吕不韦'] + roles['段奕宏']\n",
    "roles['李斯'] += roles['李斯']\n",
    "roles['赵姬'] += roles['赵姬'] + roles['朱珠']\n",
    "\n",
    "roles.pop(\"秦始皇\")\n",
    "roles.pop(\"张鲁一\")\n",
    "roles.pop(\"段奕宏\")\n",
    "roles.pop(\"朱珠\")\n",
    "\n",
    "role_df = pd.DataFrame(list(roles.values()),index=list(roles.keys()),columns=['得分'])\n",
    "role_df.sort_values('得分',inplace=True,ascending=False)\n",
    "role_df.plot(kind='bar')"
   ]
  }
 ],
 "metadata": {
  "kernelspec": {
   "display_name": "Python 3",
   "language": "python",
   "name": "python3"
  },
  "language_info": {
   "codemirror_mode": {
    "name": "ipython",
    "version": 3
   },
   "file_extension": ".py",
   "mimetype": "text/x-python",
   "name": "python",
   "nbconvert_exporter": "python",
   "pygments_lexer": "ipython3",
   "version": "3.7.6"
  }
 },
 "nbformat": 4,
 "nbformat_minor": 4
}
